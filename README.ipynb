{
 "cells": [
  {
   "cell_type": "markdown",
   "metadata": {},
   "source": [
    "# Java Notebook"
   ]
  },
  {
   "cell_type": "markdown",
   "metadata": {},
   "source": [
    "Prepare the kernel while Python is still active:"
   ]
  },
  {
   "cell_type": "code",
   "execution_count": null,
   "metadata": {},
   "outputs": [],
   "source": [
    "!jbang install-kernel@jupyter-java"
   ]
  },
  {
   "cell_type": "markdown",
   "metadata": {},
   "source": [
    "(Don't use the `jbang` from Nix - it [breaks](https://github.com/NixOS/nixpkgs/pull/320698) the jupyter-java installer. Use sdkman, for example, `sdk install jbang 0.116.0`.)"
   ]
  },
  {
   "cell_type": "markdown",
   "metadata": {},
   "source": [
    "When that's done select the Java kernel from the \"Kernel\" menu and you're good to go."
   ]
  },
  {
   "cell_type": "code",
   "execution_count": 1,
   "metadata": {},
   "outputs": [
    {
     "name": "stdout",
     "output_type": "stream",
     "text": [
      "Hello World!\n"
     ]
    }
   ],
   "source": [
    "System.out.println(\"Hello World!\")"
   ]
  },
  {
   "cell_type": "code",
   "execution_count": 3,
   "metadata": {},
   "outputs": [
    {
     "name": "stdout",
     "output_type": "stream",
     "text": [
      "Adding dependency \u001b[0m\u001b[1m\u001b[32morg.slf4j:slf4j-simple:2.0.13\u001b[0m\u001b[0m\n",
      "Solving dependencies\n",
      "Found dependencies count: 2\n",
      "Add to classpath: \u001b[0m\u001b[32m/home/dsyer/.m2/repository/io/github/padreati/rapaio-jupyter-kernel/1.3.0/ivy_cache/org.slf4j/slf4j-simple/jars/slf4j-simple-2.0.13.jar\u001b[0m\u001b[0m\n",
      "Add to classpath: \u001b[0m\u001b[32m/home/dsyer/.m2/repository/io/github/padreati/rapaio-jupyter-kernel/1.3.0/ivy_cache/org.slf4j/slf4j-api/jars/slf4j-api-2.0.13.jar\u001b[0m\u001b[0m\n"
     ]
    }
   ],
   "source": [
    "%dependency /add org.slf4j:slf4j-simple:2.0.13\n",
    "%dependency /resolve"
   ]
  },
  {
   "cell_type": "code",
   "execution_count": 4,
   "metadata": {},
   "outputs": [
    {
     "name": "stderr",
     "output_type": "stream",
     "text": [
      "[Engine-thread-1] INFO test - Hello World!\n"
     ]
    }
   ],
   "source": [
    "import org.slf4j.LoggerFactory;\n",
    "LoggerFactory.getLogger(\"test\").info(\"Hello World!\");"
   ]
  },
  {
   "cell_type": "code",
   "execution_count": 10,
   "metadata": {},
   "outputs": [
    {
     "name": "stdout",
     "output_type": "stream",
     "text": [
      "Adding dependency \u001b[0m\u001b[1m\u001b[32mcom.example:experiment:1.0.0-SNAPSHOT\u001b[0m\u001b[0m\n",
      "Solving dependencies\n"
     ]
    },
    {
     "name": "stderr",
     "output_type": "stream",
     "text": [
      "unresolved dependency: com.example#experiment;1.0.0-SNAPSHOT: Cannot invoke \"org.apache.ivy.plugins.resolver.ResolverSettings.getVersionMatcher()\" because the return value of \"org.apache.ivy.plugins.resolver.BasicResolver.getSettings()\" is nullunresolved dependency: com.example#experiment;1.0.0-SNAPSHOT: Cannot invoke \"org.apache.ivy.plugins.resolver.ResolverSettings.getVersionMatcher()\" because the return value of \"org.apache.ivy.plugins.resolver.BasicResolver.getSettings()\" is nullunresolved dependency: com.example#experiment;1.0.0-SNAPSHOT: Cannot invoke \"org.apache.ivy.plugins.resolver.ResolverSettings.getVersionMatcher()\" because the return value of \"org.apache.ivy.plugins.resolver.BasicResolver.getSettings()\" is null"
     ]
    },
    {
     "name": "stdout",
     "output_type": "stream",
     "text": [
      "Found dependencies count: 2\n",
      "Add to classpath: \u001b[0m\u001b[32m/home/dsyer/.m2/repository/io/github/padreati/rapaio-jupyter-kernel/1.3.0/ivy_cache/org.slf4j/slf4j-simple/jars/slf4j-simple-2.0.13.jar\u001b[0m\u001b[0m\n",
      "Add to classpath: \u001b[0m\u001b[32m/home/dsyer/.m2/repository/io/github/padreati/rapaio-jupyter-kernel/1.3.0/ivy_cache/org.slf4j/slf4j-api/jars/slf4j-api-2.0.13.jar\u001b[0m\u001b[0m\n"
     ]
    }
   ],
   "source": [
    "%dependency /add com.example:experiment:1.0.0-SNAPSHOT\n",
    "%dependency /resolve"
   ]
  },
  {
   "cell_type": "code",
   "execution_count": 6,
   "metadata": {},
   "outputs": [
    {
     "ename": "CompilerException",
     "evalue": "",
     "output_type": "error",
     "traceback": [
      "\u001b[0m\u001b[1m\u001b[31mCompile error:\u001b[0m",
      "\u001b[0m\u001b[1m|    \u001b[0m\u001b[1m\u001b[48;2;235;145;148mcom.example.Application\u001b[0m\u001b[1m.main();\u001b[0m",
      "\u001b[0m\u001b[1m\u001b[34mpackage com.example does not exist\u001b[0m",
      ""
     ]
    }
   ],
   "source": [
    "com.example.Application.main();"
   ]
  },
  {
   "cell_type": "markdown",
   "metadata": {},
   "source": [
    "The rapaio kernel does not support local maven repos?"
   ]
  },
  {
   "cell_type": "code",
   "execution_count": 9,
   "metadata": {},
   "outputs": [
    {
     "name": "stdout",
     "output_type": "stream",
     "text": [
      "\u001b[0mRepository \u001b[1m\u001b[32mlocal\u001b[0m url: \u001b[1m\u001b[32mfile:///home/dsyer/.m2/repository\u001b[0m added.\u001b[0mRepositories count: 5\n",
      "\u001b[0mname: \u001b[1m\u001b[32mcentral, \u001b[0murl: \u001b[1m\u001b[32mhttps://repo.maven.apache.org/maven2/\n",
      "\u001b[0m\u001b[0mname: \u001b[1m\u001b[32mjcenter, \u001b[0murl: \u001b[1m\u001b[32mhttps://jcenter.bintray.com/\n",
      "\u001b[0m\u001b[0mname: \u001b[1m\u001b[32mjboss, \u001b[0murl: \u001b[1m\u001b[32mhttps://repository.jboss.org/nexus/content/repositories/releases/\n",
      "\u001b[0m\u001b[0mname: \u001b[1m\u001b[32matlassian, \u001b[0murl: \u001b[1m\u001b[32mhttps://packages.atlassian.com/maven/public/\n",
      "\u001b[0m\u001b[0mname: \u001b[1m\u001b[32mlocal, \u001b[0murl: \u001b[1m\u001b[32mfile:///home/dsyer/.m2/repository/\n",
      "\u001b[0m"
     ]
    }
   ],
   "source": [
    "%dependency /add-repo local file:///home/dsyer/.m2/repository\n",
    "%dependency /list-repos"
   ]
  },
  {
   "cell_type": "code",
   "execution_count": 11,
   "metadata": {},
   "outputs": [
    {
     "data": {
      "text/plain": [
       "\u001b[0m\u001b[1m\u001b[34mInformation about registered magic handlers.\n",
       "\u001b[0m\u001b[0m\n",
       "\u001b[0m\u001b[1m\u001b[34mJShell commands\u001b[0m\u001b[0m\n",
       "\u001b[0m\u001b[1mDocumentation:\n",
       "\u001b[0m    Magic handler which runs command against JShell REPL and displays the results.\n",
       "    Not all JShell commands are implemented, since some of them does not make sense with notebooks (for example edit cell is handled simply by editing the corresponding code cell and run).\n",
       "\u001b[0m\u001b[1mSyntax:\n",
       "\u001b[0m    \u001b[0m\u001b[1m\u001b[32m%jshell /methods\u001b[0m\n",
       "    List all active methods.\n",
       "    \u001b[0m\u001b[1m\u001b[32m%jshell /vars\u001b[0m\n",
       "    List all active variables, with type and value.\n",
       "    \u001b[0m\u001b[1m\u001b[32m%jshell /imports\u001b[0m\n",
       "    List all active import statements.\n",
       "    \u001b[0m\u001b[1m\u001b[32m%jshell /types\u001b[0m\n",
       "    List all active types: classes, interfaces, enums and annotations.\n",
       "    \u001b[0m\u001b[1m\u001b[32m%jshell /list -all\u001b[0m\n",
       "    List all code snippets, either active, inactive or erroneous.\n",
       "    \u001b[0m\u001b[1m\u001b[32m%jshell /list [id]\u001b[0m\n",
       "    List snippet with the given id.\n",
       "    \u001b[0m\u001b[1m\u001b[32m%jshell /list\u001b[0m\n",
       "    List all active code snippets.\n",
       "\n",
       "\u001b[0m\u001b[1m\u001b[34mDependency manager\u001b[0m\u001b[0m\n",
       "\u001b[0m\u001b[1mDocumentation:\n",
       "\u001b[0m    Find and resolve a dependency using coordinates: group_id, artifact_id and version id.\n",
       "    The maven public repositories are searched for dependencies. Additionally, any maven transitive dependency declared with magic handlers are included in classpath.\n",
       "\u001b[0m\u001b[1mSyntax:\n",
       "\u001b[0m    \u001b[0m\u001b[1m\u001b[32m%dependency /list-repos\u001b[0m\n",
       "    List all repositories\n",
       "    \u001b[0m\u001b[1m\u001b[32m%dependency /add-repo name url\u001b[0m\n",
       "    Add Maven Repository using a name and an url\n",
       "    \u001b[0m\u001b[1m\u001b[32m%dependency /list-configuration\u001b[0m\n",
       "    List all the dependency configurations\n",
       "    \u001b[0m\u001b[1m\u001b[32m%dependency /list-artifacts\u001b[0m\n",
       "    List artifacts loaded after the last dependency resolve\n",
       "    \u001b[0m\u001b[1m\u001b[32m%dependency /conflict-manager all|latest-time|latest-revision(default)|latest-compatible|strict\u001b[0m\n",
       "    Configures a conflict manager. A conflict manager describes how conflicts are resolved.\n",
       "all: resolve conflicts by selecting all revisions, it doesn’t evict any modules.\n",
       "latest-time: selects only the latest in time revision.\n",
       "latest-revision: selects only the latest revision.\n",
       "latest-compatible: selects the latest version in the conflicts which can result in a compatible set of dependencies. This conflict manager does not allow any conflicts (similar to the strict conflict manager), except that it follows a best effort strategy to try to find a set of compatible modules (according to the version constraints)\n",
       "strict: throws an exception (i.e. causes a build failure) whenever a conflict is found. It does not take into consideration overrides. (default value)\n",
       "    \u001b[0m\u001b[1m\u001b[32m%dependency /resolve\u001b[0m\n",
       "    Resolve dependencies\n",
       "    \u001b[0m\u001b[1m\u001b[32m%dependency /add group_id:artifact_id:version\u001b[0m\n",
       "    \u001b[0m\u001b[1m\u001b[32m%dependency /add group_id:artifact_id:version --force\u001b[0m\n",
       "    Declares a direct dependency to dependency manager.\n",
       "Flag /force can be used in order to force version overrides.\n",
       "This command does not resolve dependencies. \n",
       "    \u001b[0m\u001b[1m\u001b[32m%dependency /override group_id:artifact_id:version\u001b[0m\n",
       "    Declares an override, dependencies matched by group_id and artifact_id will be replaced with this override.\n",
       "A more flexible way to solve conflicts, even if a conflict actually does not exist.\n",
       "It cannot be used to override forced direct dependencies.\n",
       "\n",
       "\u001b[0m\u001b[1m\u001b[34mJar magic handler\u001b[0m\u001b[0m\n",
       "\u001b[0m\u001b[1mDocumentation:\n",
       "\u001b[0m    Jar magic handler allows adding to the current classpath a local jar file or all the jar files from a given directory.\n",
       "\u001b[0m\u001b[1mSyntax:\n",
       "\u001b[0m    \u001b[0m\u001b[1m\u001b[32m%jar path_to_jar_or_folder_of_jars\u001b[0m\n",
       "    Adds to the classpath a jar or all jar archives from a directory\n",
       "    \u001b[0m\u001b[1m\u001b[32m%%jars\u001b[0m\n",
       "    \u001b[0m\u001b[1m\u001b[32mjar_file_or_folder_1\u001b[0m\n",
       "    \u001b[0m\u001b[1m\u001b[32m[jar_file_or_folder_2]\u001b[0m\n",
       "    \u001b[0m\u001b[1m\u001b[32m...\u001b[0m\n",
       "    \u001b[0m\u001b[1m\u001b[32m[jar_file_or_folder_n]\u001b[0m\n",
       "    Adds to classpath all referenced jars or all jar files from referenced directories.\n",
       "\n",
       "\u001b[0m\u001b[1m\u001b[34mLoad\u001b[0m\u001b[0m\n",
       "\u001b[0m\u001b[1mDocumentation:\n",
       "\u001b[0m    Loads and executes a local jshell script file or a jupyter notebook for java language.\n",
       "\u001b[0m\u001b[1mSyntax:\n",
       "\u001b[0m    \u001b[0m\u001b[1m\u001b[32m%load path_to_script_or_notebook\u001b[0m\n",
       "    \n",
       "\n",
       "\u001b[0m\u001b[1m\u001b[34mImage\u001b[0m\u001b[0m\n",
       "\u001b[0m\u001b[1mDocumentation:\n",
       "\u001b[0m    Displays an image from a file or URL.\n",
       "\u001b[0m\u001b[1mSyntax:\n",
       "\u001b[0m    \u001b[0m\u001b[1m\u001b[32m%image path_to_file_or_url\u001b[0m\n",
       "    Display an image from a local file or from an URL\n",
       "\n",
       "\u001b[0m\u001b[1m\u001b[34mClasspath\u001b[0m\u001b[0m\n",
       "\u001b[0m\u001b[1mDocumentation:\n",
       "\u001b[0m    Magic handler which allows one to add to classpath directories with compiled code.\n",
       "\u001b[0m\u001b[1mSyntax:\n",
       "\u001b[0m    \u001b[0m\u001b[1m\u001b[32m%classpath path_to_folder_with_classes\u001b[0m\n",
       "    Adds to classpath folder which contains class files\n",
       "\n",
       "\u001b[0m\u001b[1m\u001b[34mBash\u001b[0m\u001b[0m\n",
       "\u001b[0m\u001b[1mDocumentation:\n",
       "\u001b[0m    Executes command line in a bash shell.\n",
       "\u001b[0m\u001b[1mSyntax:\n",
       "\u001b[0m    \u001b[0m\u001b[1m\u001b[32m%%bash\u001b[0m\n",
       "    \u001b[0m\u001b[1m\u001b[32mbash script\u001b[0m\n",
       "    Executes the following lines in a terminal.\n",
       "\n",
       "\u001b[0m\u001b[1m\u001b[34mHelp\u001b[0m\u001b[0m\n",
       "\u001b[0m\u001b[1mDocumentation:\n",
       "\u001b[0m    Magic which displays help for all the magic tools.\n",
       "\u001b[0m\u001b[1mSyntax:\n",
       "\u001b[0m    \u001b[0m\u001b[1m\u001b[32m%help\u001b[0m\n",
       "    Display help for all magic handlers.\n"
      ]
     },
     "execution_count": 11,
     "metadata": {},
     "output_type": "execute_result"
    }
   ],
   "source": [
    "%help"
   ]
  }
 ],
 "metadata": {
  "kernelspec": {
   "display_name": "java (Rapaio/j!)",
   "language": "java",
   "name": "jbang-rapaio"
  },
  "language_info": {
   "codemirror_mode": "java",
   "file_extension": ".jshell",
   "mimetype": "text/x-java-source",
   "name": "java",
   "nbconvert_exporter": "script",
   "pygments_lexer": "java",
   "version": "21.0.3+9-LTS"
  }
 },
 "nbformat": 4,
 "nbformat_minor": 4
}
