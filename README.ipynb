{
 "cells": [
  {
   "cell_type": "markdown",
   "metadata": {},
   "source": [
    "# Java Notebook"
   ]
  },
  {
   "cell_type": "markdown",
   "metadata": {},
   "source": [
    "Prepare the kernel while Python is still active or use the `%%bash` cell magic:"
   ]
  },
  {
   "cell_type": "raw",
   "metadata": {
    "vscode": {
     "languageId": "raw"
    }
   },
   "source": [
    "%%bash\n",
    "jbang install-kernel@jupyter-java rapaio"
   ]
  },
  {
   "cell_type": "markdown",
   "metadata": {},
   "source": [
    "(Don't use the `jbang` from Nix - it [breaks](https://github.com/NixOS/nixpkgs/pull/320698) the jupyter-java installer. Use sdkman, for example, `sdk install jbang 0.116.0`.)"
   ]
  },
  {
   "cell_type": "markdown",
   "metadata": {},
   "source": [
    "When that's done select the Java kernel from the \"Kernel\" menu and you're good to go."
   ]
  },
  {
   "cell_type": "code",
   "execution_count": 4,
   "metadata": {},
   "outputs": [
    {
     "name": "stdout",
     "output_type": "stream",
     "text": [
      "Hello World!\n"
     ]
    }
   ],
   "source": [
    "System.out.println(\"Hello World!\")"
   ]
  },
  {
   "cell_type": "code",
   "execution_count": 1,
   "metadata": {},
   "outputs": [
    {
     "name": "stdout",
     "output_type": "stream",
     "text": [
      "Adding dependency \u001b[0m\u001b[1m\u001b[32morg.slf4j:slf4j-simple:2.0.13\u001b[0m\u001b[0m\n",
      "Solving dependencies\n"
     ]
    },
    {
     "name": "stdout",
     "output_type": "stream",
     "text": [
      "Found dependencies count: 2\n",
      "Add to classpath: \u001b[0m\u001b[32m/home/dsyer/.local/share/jupyter/kernels/jbang-rapaio/ivy_cache/org.slf4j/slf4j-simple/jars/slf4j-simple-2.0.13.jar\u001b[0m\u001b[0m\n",
      "Add to classpath: \u001b[0m\u001b[32m/home/dsyer/.local/share/jupyter/kernels/jbang-rapaio/ivy_cache/org.slf4j/slf4j-api/jars/slf4j-api-2.0.13.jar\u001b[0m\u001b[0m\n"
     ]
    }
   ],
   "source": [
    "%dependency /add org.slf4j:slf4j-simple:2.0.13\n",
    "%dependency /resolve"
   ]
  },
  {
   "cell_type": "code",
   "execution_count": 3,
   "metadata": {},
   "outputs": [
    {
     "name": "stderr",
     "output_type": "stream",
     "text": [
      "[Engine-thread-0] INFO test - Hello World!\n"
     ]
    }
   ],
   "source": [
    "import org.slf4j.LoggerFactory;\n",
    "LoggerFactory.getLogger(\"test\").info(\"Hello World!\");"
   ]
  },
  {
   "cell_type": "markdown",
   "metadata": {},
   "source": [
    "The rapaio kernel does not support local maven repos?"
   ]
  },
  {
   "cell_type": "code",
   "execution_count": 2,
   "metadata": {},
   "outputs": [
    {
     "name": "stdout",
     "output_type": "stream",
     "text": [
      "\u001b[0mRepository \u001b[1m\u001b[32mlocal\u001b[0m url: \u001b[1m\u001b[32mfile:///home/dsyer/.m2/repository\u001b[0m added.\u001b[0mRepositories count: 5\n",
      "\u001b[0mname: \u001b[1m\u001b[32mcentral, \u001b[0murl: \u001b[1m\u001b[32mhttps://repo.maven.apache.org/maven2/\n",
      "\u001b[0m\u001b[0mname: \u001b[1m\u001b[32mjcenter, \u001b[0murl: \u001b[1m\u001b[32mhttps://jcenter.bintray.com/\n",
      "\u001b[0m\u001b[0mname: \u001b[1m\u001b[32mjboss, \u001b[0murl: \u001b[1m\u001b[32mhttps://repository.jboss.org/nexus/content/repositories/releases/\n",
      "\u001b[0m\u001b[0mname: \u001b[1m\u001b[32matlassian, \u001b[0murl: \u001b[1m\u001b[32mhttps://packages.atlassian.com/maven/public/\n",
      "\u001b[0m\u001b[0mname: \u001b[1m\u001b[32mlocal, \u001b[0murl: \u001b[1m\u001b[32mfile:///home/dsyer/.m2/repository/\n",
      "\u001b[0m"
     ]
    }
   ],
   "source": [
    "%dependency /add-repo local file:///home/dsyer/.m2/repository\n",
    "%dependency /list-repos"
   ]
  },
  {
   "cell_type": "code",
   "execution_count": 3,
   "metadata": {},
   "outputs": [
    {
     "name": "stdout",
     "output_type": "stream",
     "text": [
      "Adding dependency \u001b[0m\u001b[1m\u001b[32mcom.example:experiment:1.0.0-SNAPSHOT\u001b[0m\u001b[0m\n",
      "Solving dependencies\n",
      "Found dependencies count: 3\n",
      "Add to classpath: \u001b[0m\u001b[32m/home/dsyer/.local/share/jupyter/kernels/jbang-rapaio/ivy_cache/org.slf4j/slf4j-simple/jars/slf4j-simple-2.0.13.jar\u001b[0m\u001b[0m\n",
      "Add to classpath: \u001b[0m\u001b[32m/home/dsyer/.local/share/jupyter/kernels/jbang-rapaio/ivy_cache/org.slf4j/slf4j-api/jars/slf4j-api-2.0.13.jar\u001b[0m\u001b[0m\n",
      "Add to classpath: \u001b[0m\u001b[32m/home/dsyer/.local/share/jupyter/kernels/jbang-rapaio/ivy_cache/com.example/experiment/jars/experiment-1.0.0-SNAPSHOT.jar\u001b[0m\u001b[0m\n"
     ]
    }
   ],
   "source": [
    "%dependency /add com.example:experiment:1.0.0-SNAPSHOT\n",
    "%dependency /resolve"
   ]
  },
  {
   "cell_type": "code",
   "execution_count": 5,
   "metadata": {},
   "outputs": [
    {
     "name": "stderr",
     "output_type": "stream",
     "text": [
      "Hello World!\n"
     ]
    }
   ],
   "source": [
    "com.example.Application.main(new String[0]);"
   ]
  },
  {
   "cell_type": "code",
   "execution_count": null,
   "metadata": {},
   "outputs": [],
   "source": [
    "%help"
   ]
  },
  {
   "cell_type": "code",
   "execution_count": 9,
   "metadata": {},
   "outputs": [],
   "source": [
    "var version=\"2.0.13\""
   ]
  },
  {
   "cell_type": "code",
   "execution_count": 11,
   "metadata": {},
   "outputs": [
    {
     "data": {
      "text/plain": [
       "\u001b[0m\u001b[1mid:\u001b[32m1\u001b[0m \u001b[1mtype:\u001b[32mIMPORT\n",
       "\u001b[0m\u001b[0m\u001b[0m\u001b[1;30m|    import java.util.*;\u001b[0m\u001b[0m\n",
       "\u001b[0m\u001b[0m\u001b[1;30m|    import java.io.*;\u001b[0m\u001b[0m\n",
       "\u001b[0m\u001b[0m\u001b[1;30m|    import java.math.*;\u001b[0m\u001b[0m\n",
       "\u001b[0m\u001b[0m\u001b[1;30m|    import java.net.*;\u001b[0m\u001b[0m\n",
       "\u001b[0m\u001b[0m\u001b[1;30m|    import java.util.*;\u001b[0m\u001b[0m\n",
       "\u001b[0m\u001b[0m\u001b[1;30m|    import java.util.concurrent.*;\u001b[0m\u001b[0m\n",
       "\u001b[0m\u001b[0m\u001b[1;30m|    import java.util.prefs.*;\u001b[0m\u001b[0m\n",
       "\u001b[0m\u001b[0m\u001b[1;30m|    import java.util.regex.*;\u001b[0m\u001b[0m\n",
       "\u001b[0m\u001b[0m\u001b[1;30m|    \u001b[0m\u001b[0m\n",
       "\u001b[0m\u001b[0m\u001b[1;30m|    import static org.rapaio.jupyter.kernel.global.Global.*;\u001b[0m\u001b[0m\n",
       "\u001b[0m\u001b[1mid:\u001b[32m2\u001b[0m \u001b[1mtype:\u001b[32mSTATEMENT\n",
       "\u001b[0m\u001b[0m\u001b[0m\u001b[1;30m|    System.out.println(\"Hello World!\")\u001b[0m\u001b[0m\n",
       "\u001b[0m\u001b[1mid:\u001b[32m3\u001b[0m \u001b[1mtype:\u001b[32mIMPORT\n",
       "\u001b[0m\u001b[0m\u001b[0m\u001b[1;30m|    import org.slf4j.LoggerFactory;\u001b[0m\u001b[0m\n",
       "\u001b[0m\u001b[1mid:\u001b[32m4\u001b[0m \u001b[1mtype:\u001b[32mSTATEMENT\n",
       "\u001b[0m\u001b[0m\u001b[0m\u001b[1;30m|    LoggerFactory.getLogger(\"test\").info(\"Hello World!\");\u001b[0m\u001b[0m\n",
       "\u001b[0m\u001b[1mid:\u001b[32m5\u001b[0m \u001b[1mtype:\u001b[32mVAR\n",
       "\u001b[0m\u001b[0m\u001b[0m\u001b[1;30m|    var version=\"2.0.13\";\u001b[0m\u001b[0m\n"
      ]
     },
     "execution_count": 11,
     "metadata": {},
     "output_type": "execute_result"
    }
   ],
   "source": [
    "%jshell /list"
   ]
  }
 ],
 "metadata": {
  "kernelspec": {
   "display_name": "Java (Rapaio Jupyter)",
   "language": "java",
   "name": "jbang-rapaio"
  },
  "language_info": {
   "codemirror_mode": "java",
   "file_extension": ".jshell",
   "mimetype": "text/x-java-source",
   "name": "java",
   "nbconvert_exporter": "script",
   "pygments_lexer": "java",
   "version": "22+36"
  }
 },
 "nbformat": 4,
 "nbformat_minor": 4
}
