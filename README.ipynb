{
 "cells": [
  {
   "cell_type": "markdown",
   "metadata": {},
   "source": [
    "# Java Notebook"
   ]
  },
  {
   "cell_type": "markdown",
   "metadata": {},
   "source": [
    "Prepare the kernel while Python is still active:"
   ]
  },
  {
   "cell_type": "code",
   "execution_count": 4,
   "metadata": {
    "vscode": {
     "languageId": "java"
    }
   },
   "outputs": [
    {
     "ename": "CompilationException",
     "evalue": "",
     "output_type": "error",
     "traceback": [
      "\u001b[1m\u001b[30m|   \u001b[1m\u001b[30m!jbang\u001b[0m\u001b[1m\u001b[30m\u001b[41m\u001b[0m\u001b[1m\u001b[30m install-kernel@jupyter-java\u001b[0m",
      "\u001b[1m\u001b[31m';' expected\u001b[0m",
      "",
      "\u001b[1m\u001b[30m|   \u001b[1m\u001b[30m!jbang install-kernel\u001b[0m\u001b[1m\u001b[30m\u001b[41m@jupyter\u001b[0m\u001b[1m\u001b[30m-java\u001b[0m",
      "\u001b[1m\u001b[31millegal start of expression\u001b[0m",
      "",
      "\u001b[1m\u001b[30m|   \u001b[1m\u001b[30m!jbang \u001b[0m\u001b[1m\u001b[30m\u001b[41minstall-kernel@jupyter-java\u001b[0m\u001b[1m\u001b[30m\u001b[0m",
      "\u001b[1m\u001b[31mnot a statement\u001b[0m",
      "",
      "\u001b[1m\u001b[30m|   \u001b[1m\u001b[30m!\u001b[0m\u001b[1m\u001b[30m\u001b[41mjbang\u001b[0m\u001b[1m\u001b[30m install-kernel@jupyter-java\u001b[0m",
      "\u001b[1m\u001b[31mcannot find symbol\u001b[0m",
      "\u001b[1m\u001b[31m  symbol:   variable jbang\u001b[0m",
      "",
      "\u001b[1m\u001b[30m|   \u001b[1m\u001b[30m!jbang \u001b[0m\u001b[1m\u001b[30m\u001b[41minstall\u001b[0m\u001b[1m\u001b[30m-kernel@jupyter-java\u001b[0m",
      "\u001b[1m\u001b[31mcannot find symbol\u001b[0m",
      "\u001b[1m\u001b[31m  symbol:   variable install\u001b[0m",
      "",
      "\u001b[1m\u001b[30m|   \u001b[1m\u001b[30m!jbang install-kernel@jupyter-\u001b[0m\u001b[1m\u001b[30m\u001b[41mjava\u001b[0m\u001b[1m\u001b[30m\u001b[0m",
      "\u001b[1m\u001b[31mcannot find symbol\u001b[0m",
      "\u001b[1m\u001b[31m  symbol:   variable java\u001b[0m",
      ""
     ]
    }
   ],
   "source": [
    "!jbang install-kernel@jupyter-java"
   ]
  },
  {
   "cell_type": "markdown",
   "metadata": {},
   "source": [
    "(Don't use the `jbang` from Nix - it [breaks](https://github.com/NixOS/nixpkgs/pull/320698) the jupyter-java installer. Use sdkman, for example, `sdk install jbang 0.116.0`.)"
   ]
  },
  {
   "cell_type": "markdown",
   "metadata": {},
   "source": [
    "When that's done select the Java kernel from the \"Kernel\" menu and you're good to go."
   ]
  },
  {
   "cell_type": "code",
   "execution_count": null,
   "metadata": {
    "vscode": {
     "languageId": "java"
    }
   },
   "outputs": [
    {
     "name": "stdout",
     "output_type": "stream",
     "text": [
      "Hello World!\n"
     ]
    }
   ],
   "source": [
    "System.out.println(\"Hello World!\")"
   ]
  },
  {
   "cell_type": "code",
   "execution_count": 5,
   "metadata": {
    "vscode": {
     "languageId": "java"
    }
   },
   "outputs": [
    {
     "name": "stderr",
     "output_type": "stream",
     "text": [
      "[IJava-executor-1] INFO test - Hello World!\n"
     ]
    }
   ],
   "source": [
    "%maven org.slf4j:slf4j-simple:2.0.13\n",
    "import org.slf4j.LoggerFactory;\n",
    "LoggerFactory.getLogger(\"test\").info(\"Hello World!\");"
   ]
  }
 ],
 "metadata": {
  "kernelspec": {
   "display_name": "java (IJava/j!)",
   "language": "java",
   "name": "jbang-ijava"
  },
  "language_info": {
   "codemirror_mode": "java",
   "file_extension": ".jshell",
   "mimetype": "text/x-java-source",
   "name": "Java",
   "pygments_lexer": "java",
   "version": "17.0.7+7"
  }
 },
 "nbformat": 4,
 "nbformat_minor": 4
}
