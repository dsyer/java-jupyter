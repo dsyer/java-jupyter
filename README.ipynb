{
 "cells": [
  {
   "cell_type": "markdown",
   "metadata": {},
   "source": [
    "# Java Notebook"
   ]
  },
  {
   "cell_type": "markdown",
   "metadata": {},
   "source": [
    "Prepare the kernel while Python is still active or use the `%%bash` cell magic (duplicated in Markdown for visibility):\n",
    "\n",
    "```bash\n",
    "%%bash\n",
    "jbang install-kernel@jupyter-java rapaio\n",
    "```"
   ]
  },
  {
   "cell_type": "raw",
   "metadata": {
    "vscode": {
     "languageId": "raw"
    }
   },
   "source": [
    "%%bash\n",
    "jbang install-kernel@jupyter-java rapaio"
   ]
  },
  {
   "cell_type": "markdown",
   "metadata": {},
   "source": [
    "(Don't use the `jbang` from Nix - it [breaks](https://github.com/NixOS/nixpkgs/pull/320698) the jupyter-java installer. Use sdkman, for example, `sdk install jbang 0.116.0`.)"
   ]
  },
  {
   "cell_type": "markdown",
   "metadata": {},
   "source": [
    "When that's done select the Java kernel from the \"Kernel\" menu and you're good to go."
   ]
  },
  {
   "cell_type": "code",
   "execution_count": 1,
   "metadata": {},
   "outputs": [
    {
     "name": "stdout",
     "output_type": "stream",
     "text": [
      "Hello World!\n"
     ]
    }
   ],
   "source": [
    "System.out.println(\"Hello World!\")"
   ]
  },
  {
   "cell_type": "code",
   "execution_count": 2,
   "metadata": {},
   "outputs": [
    {
     "name": "stdout",
     "output_type": "stream",
     "text": [
      "\u001b[0mRepository \u001b[1m\u001b[32mlocal\u001b[0m url: \u001b[1m\u001b[32mfile:///home/dsyer/.m2/repository\u001b[0m added.\u001b[0mRepositories count: 5\n",
      "\u001b[0mname: \u001b[1m\u001b[32mcentral, \u001b[0murl: \u001b[1m\u001b[32mhttps://repo.maven.apache.org/maven2/\n",
      "\u001b[0m\u001b[0mname: \u001b[1m\u001b[32mjcenter, \u001b[0murl: \u001b[1m\u001b[32mhttps://jcenter.bintray.com/\n",
      "\u001b[0m\u001b[0mname: \u001b[1m\u001b[32mjboss, \u001b[0murl: \u001b[1m\u001b[32mhttps://repository.jboss.org/nexus/content/repositories/releases/\n",
      "\u001b[0m\u001b[0mname: \u001b[1m\u001b[32matlassian, \u001b[0murl: \u001b[1m\u001b[32mhttps://packages.atlassian.com/maven/public\n",
      "\u001b[0m\u001b[0mname: \u001b[1m\u001b[32mlocal, \u001b[0murl: \u001b[1m\u001b[32mfile:///home/dsyer/.m2/repository\n",
      "\u001b[0m"
     ]
    }
   ],
   "source": [
    "%dependency /add-repo local file:///home/dsyer/.m2/repository\n",
    "%dependency /list-repos"
   ]
  },
  {
   "cell_type": "markdown",
   "metadata": {},
   "source": [
    "The rapaio kernel does not support snapshots in local maven repos (https://github.com/padreati/rapaio-jupyter-kernel/issues/63)."
   ]
  },
  {
   "cell_type": "code",
   "execution_count": 3,
   "metadata": {},
   "outputs": [
    {
     "name": "stdout",
     "output_type": "stream",
     "text": [
      "Adding dependency \u001b[0m\u001b[1m\u001b[32mcom.example:experiment:1.0.0\u001b[0m\u001b[0m\n",
      "Solving dependencies\n",
      "Found dependencies count: 45\n",
      "Add to classpath: \u001b[0m\u001b[32m/home/dsyer/.m2/repository/io/github/padreati/rapaio-jupyter-kernel/2.0.0/mima_cache/com/example/experiment/1.0.0/experiment-1.0.0.jar\u001b[0m\u001b[0m\n",
      "Add to classpath: \u001b[0m\u001b[32m/home/dsyer/.m2/repository/io/github/padreati/rapaio-jupyter-kernel/2.0.0/mima_cache/org/springframework/boot/spring-boot-starter-oauth2-authorization-server/3.3.0/spring-boot-starter-oauth2-authorization-server-3.3.0.jar\u001b[0m\u001b[0m\n",
      "Add to classpath: \u001b[0m\u001b[32m/home/dsyer/.m2/repository/io/github/padreati/rapaio-jupyter-kernel/2.0.0/mima_cache/org/springframework/boot/spring-boot-starter-web/3.3.0/spring-boot-starter-web-3.3.0.jar\u001b[0m\u001b[0m\n",
      "Add to classpath: \u001b[0m\u001b[32m/home/dsyer/.m2/repository/io/github/padreati/rapaio-jupyter-kernel/2.0.0/mima_cache/org/springframework/boot/spring-boot-starter/3.3.0/spring-boot-starter-3.3.0.jar\u001b[0m\u001b[0m\n",
      "Add to classpath: \u001b[0m\u001b[32m/home/dsyer/.m2/repository/io/github/padreati/rapaio-jupyter-kernel/2.0.0/mima_cache/org/springframework/boot/spring-boot/3.3.0/spring-boot-3.3.0.jar\u001b[0m\u001b[0m\n",
      "Add to classpath: \u001b[0m\u001b[32m/home/dsyer/.m2/repository/io/github/padreati/rapaio-jupyter-kernel/2.0.0/mima_cache/org/springframework/boot/spring-boot-autoconfigure/3.3.0/spring-boot-autoconfigure-3.3.0.jar\u001b[0m\u001b[0m\n",
      "Add to classpath: \u001b[0m\u001b[32m/home/dsyer/.m2/repository/io/github/padreati/rapaio-jupyter-kernel/2.0.0/mima_cache/org/springframework/boot/spring-boot-starter-logging/3.3.0/spring-boot-starter-logging-3.3.0.jar\u001b[0m\u001b[0m\n",
      "Add to classpath: \u001b[0m\u001b[32m/home/dsyer/.m2/repository/io/github/padreati/rapaio-jupyter-kernel/2.0.0/mima_cache/ch/qos/logback/logback-classic/1.5.6/logback-classic-1.5.6.jar\u001b[0m\u001b[0m\n",
      "Add to classpath: \u001b[0m\u001b[32m/home/dsyer/.m2/repository/io/github/padreati/rapaio-jupyter-kernel/2.0.0/mima_cache/ch/qos/logback/logback-core/1.5.6/logback-core-1.5.6.jar\u001b[0m\u001b[0m\n",
      "Add to classpath: \u001b[0m\u001b[32m/home/dsyer/.m2/repository/io/github/padreati/rapaio-jupyter-kernel/2.0.0/mima_cache/org/slf4j/slf4j-api/2.0.13/slf4j-api-2.0.13.jar\u001b[0m\u001b[0m\n",
      "Add to classpath: \u001b[0m\u001b[32m/home/dsyer/.m2/repository/io/github/padreati/rapaio-jupyter-kernel/2.0.0/mima_cache/org/apache/logging/log4j/log4j-to-slf4j/2.23.1/log4j-to-slf4j-2.23.1.jar\u001b[0m\u001b[0m\n",
      "Add to classpath: \u001b[0m\u001b[32m/home/dsyer/.m2/repository/io/github/padreati/rapaio-jupyter-kernel/2.0.0/mima_cache/org/apache/logging/log4j/log4j-api/2.23.1/log4j-api-2.23.1.jar\u001b[0m\u001b[0m\n",
      "Add to classpath: \u001b[0m\u001b[32m/home/dsyer/.m2/repository/io/github/padreati/rapaio-jupyter-kernel/2.0.0/mima_cache/org/slf4j/jul-to-slf4j/2.0.13/jul-to-slf4j-2.0.13.jar\u001b[0m\u001b[0m\n",
      "Add to classpath: \u001b[0m\u001b[32m/home/dsyer/.m2/repository/io/github/padreati/rapaio-jupyter-kernel/2.0.0/mima_cache/jakarta/annotation/jakarta.annotation-api/2.1.1/jakarta.annotation-api-2.1.1.jar\u001b[0m\u001b[0m\n",
      "Add to classpath: \u001b[0m\u001b[32m/home/dsyer/.m2/repository/io/github/padreati/rapaio-jupyter-kernel/2.0.0/mima_cache/org/yaml/snakeyaml/2.2/snakeyaml-2.2.jar\u001b[0m\u001b[0m\n",
      "Add to classpath: \u001b[0m\u001b[32m/home/dsyer/.m2/repository/io/github/padreati/rapaio-jupyter-kernel/2.0.0/mima_cache/org/springframework/boot/spring-boot-starter-json/3.3.0/spring-boot-starter-json-3.3.0.jar\u001b[0m\u001b[0m\n",
      "Add to classpath: \u001b[0m\u001b[32m/home/dsyer/.m2/repository/io/github/padreati/rapaio-jupyter-kernel/2.0.0/mima_cache/com/fasterxml/jackson/datatype/jackson-datatype-jdk8/2.17.1/jackson-datatype-jdk8-2.17.1.jar\u001b[0m\u001b[0m\n",
      "Add to classpath: \u001b[0m\u001b[32m/home/dsyer/.m2/repository/io/github/padreati/rapaio-jupyter-kernel/2.0.0/mima_cache/com/fasterxml/jackson/datatype/jackson-datatype-jsr310/2.17.1/jackson-datatype-jsr310-2.17.1.jar\u001b[0m\u001b[0m\n",
      "Add to classpath: \u001b[0m\u001b[32m/home/dsyer/.m2/repository/io/github/padreati/rapaio-jupyter-kernel/2.0.0/mima_cache/com/fasterxml/jackson/module/jackson-module-parameter-names/2.17.1/jackson-module-parameter-names-2.17.1.jar\u001b[0m\u001b[0m\n",
      "Add to classpath: \u001b[0m\u001b[32m/home/dsyer/.m2/repository/io/github/padreati/rapaio-jupyter-kernel/2.0.0/mima_cache/org/springframework/boot/spring-boot-starter-tomcat/3.3.0/spring-boot-starter-tomcat-3.3.0.jar\u001b[0m\u001b[0m\n",
      "Add to classpath: \u001b[0m\u001b[32m/home/dsyer/.m2/repository/io/github/padreati/rapaio-jupyter-kernel/2.0.0/mima_cache/org/apache/tomcat/embed/tomcat-embed-core/10.1.24/tomcat-embed-core-10.1.24.jar\u001b[0m\u001b[0m\n",
      "Add to classpath: \u001b[0m\u001b[32m/home/dsyer/.m2/repository/io/github/padreati/rapaio-jupyter-kernel/2.0.0/mima_cache/org/apache/tomcat/embed/tomcat-embed-el/10.1.24/tomcat-embed-el-10.1.24.jar\u001b[0m\u001b[0m\n",
      "Add to classpath: \u001b[0m\u001b[32m/home/dsyer/.m2/repository/io/github/padreati/rapaio-jupyter-kernel/2.0.0/mima_cache/org/apache/tomcat/embed/tomcat-embed-websocket/10.1.24/tomcat-embed-websocket-10.1.24.jar\u001b[0m\u001b[0m\n",
      "Add to classpath: \u001b[0m\u001b[32m/home/dsyer/.m2/repository/io/github/padreati/rapaio-jupyter-kernel/2.0.0/mima_cache/org/springframework/spring-web/6.1.8/spring-web-6.1.8.jar\u001b[0m\u001b[0m\n",
      "Add to classpath: \u001b[0m\u001b[32m/home/dsyer/.m2/repository/io/github/padreati/rapaio-jupyter-kernel/2.0.0/mima_cache/org/springframework/spring-beans/6.1.8/spring-beans-6.1.8.jar\u001b[0m\u001b[0m\n",
      "Add to classpath: \u001b[0m\u001b[32m/home/dsyer/.m2/repository/io/github/padreati/rapaio-jupyter-kernel/2.0.0/mima_cache/io/micrometer/micrometer-observation/1.12.6/micrometer-observation-1.12.6.jar\u001b[0m\u001b[0m\n",
      "Add to classpath: \u001b[0m\u001b[32m/home/dsyer/.m2/repository/io/github/padreati/rapaio-jupyter-kernel/2.0.0/mima_cache/io/micrometer/micrometer-commons/1.12.6/micrometer-commons-1.12.6.jar\u001b[0m\u001b[0m\n",
      "Add to classpath: \u001b[0m\u001b[32m/home/dsyer/.m2/repository/io/github/padreati/rapaio-jupyter-kernel/2.0.0/mima_cache/org/springframework/spring-webmvc/6.1.8/spring-webmvc-6.1.8.jar\u001b[0m\u001b[0m\n",
      "Add to classpath: \u001b[0m\u001b[32m/home/dsyer/.m2/repository/io/github/padreati/rapaio-jupyter-kernel/2.0.0/mima_cache/org/springframework/spring-aop/6.1.8/spring-aop-6.1.8.jar\u001b[0m\u001b[0m\n",
      "Add to classpath: \u001b[0m\u001b[32m/home/dsyer/.m2/repository/io/github/padreati/rapaio-jupyter-kernel/2.0.0/mima_cache/org/springframework/spring-context/6.1.8/spring-context-6.1.8.jar\u001b[0m\u001b[0m\n",
      "Add to classpath: \u001b[0m\u001b[32m/home/dsyer/.m2/repository/io/github/padreati/rapaio-jupyter-kernel/2.0.0/mima_cache/org/springframework/spring-expression/6.1.8/spring-expression-6.1.8.jar\u001b[0m\u001b[0m\n",
      "Add to classpath: \u001b[0m\u001b[32m/home/dsyer/.m2/repository/io/github/padreati/rapaio-jupyter-kernel/2.0.0/mima_cache/org/springframework/security/spring-security-oauth2-authorization-server/1.3.0/spring-security-oauth2-authorization-server-1.3.0.jar\u001b[0m\u001b[0m\n",
      "Add to classpath: \u001b[0m\u001b[32m/home/dsyer/.m2/repository/io/github/padreati/rapaio-jupyter-kernel/2.0.0/mima_cache/org/springframework/security/spring-security-config/6.3.0/spring-security-config-6.3.0.jar\u001b[0m\u001b[0m\n",
      "Add to classpath: \u001b[0m\u001b[32m/home/dsyer/.m2/repository/io/github/padreati/rapaio-jupyter-kernel/2.0.0/mima_cache/org/springframework/security/spring-security-core/6.3.0/spring-security-core-6.3.0.jar\u001b[0m\u001b[0m\n",
      "Add to classpath: \u001b[0m\u001b[32m/home/dsyer/.m2/repository/io/github/padreati/rapaio-jupyter-kernel/2.0.0/mima_cache/org/springframework/security/spring-security-crypto/6.3.0/spring-security-crypto-6.3.0.jar\u001b[0m\u001b[0m\n",
      "Add to classpath: \u001b[0m\u001b[32m/home/dsyer/.m2/repository/io/github/padreati/rapaio-jupyter-kernel/2.0.0/mima_cache/org/springframework/security/spring-security-web/6.3.0/spring-security-web-6.3.0.jar\u001b[0m\u001b[0m\n",
      "Add to classpath: \u001b[0m\u001b[32m/home/dsyer/.m2/repository/io/github/padreati/rapaio-jupyter-kernel/2.0.0/mima_cache/org/springframework/security/spring-security-oauth2-core/6.3.0/spring-security-oauth2-core-6.3.0.jar\u001b[0m\u001b[0m\n",
      "Add to classpath: \u001b[0m\u001b[32m/home/dsyer/.m2/repository/io/github/padreati/rapaio-jupyter-kernel/2.0.0/mima_cache/org/springframework/security/spring-security-oauth2-jose/6.3.0/spring-security-oauth2-jose-6.3.0.jar\u001b[0m\u001b[0m\n",
      "Add to classpath: \u001b[0m\u001b[32m/home/dsyer/.m2/repository/io/github/padreati/rapaio-jupyter-kernel/2.0.0/mima_cache/org/springframework/security/spring-security-oauth2-resource-server/6.3.0/spring-security-oauth2-resource-server-6.3.0.jar\u001b[0m\u001b[0m\n",
      "Add to classpath: \u001b[0m\u001b[32m/home/dsyer/.m2/repository/io/github/padreati/rapaio-jupyter-kernel/2.0.0/mima_cache/org/springframework/spring-core/6.1.7/spring-core-6.1.7.jar\u001b[0m\u001b[0m\n",
      "Add to classpath: \u001b[0m\u001b[32m/home/dsyer/.m2/repository/io/github/padreati/rapaio-jupyter-kernel/2.0.0/mima_cache/org/springframework/spring-jcl/6.1.7/spring-jcl-6.1.7.jar\u001b[0m\u001b[0m\n",
      "Add to classpath: \u001b[0m\u001b[32m/home/dsyer/.m2/repository/io/github/padreati/rapaio-jupyter-kernel/2.0.0/mima_cache/com/nimbusds/nimbus-jose-jwt/9.39.1/nimbus-jose-jwt-9.39.1.jar\u001b[0m\u001b[0m\n",
      "Add to classpath: \u001b[0m\u001b[32m/home/dsyer/.m2/repository/io/github/padreati/rapaio-jupyter-kernel/2.0.0/mima_cache/com/fasterxml/jackson/core/jackson-databind/2.17.1/jackson-databind-2.17.1.jar\u001b[0m\u001b[0m\n",
      "Add to classpath: \u001b[0m\u001b[32m/home/dsyer/.m2/repository/io/github/padreati/rapaio-jupyter-kernel/2.0.0/mima_cache/com/fasterxml/jackson/core/jackson-annotations/2.17.1/jackson-annotations-2.17.1.jar\u001b[0m\u001b[0m\n",
      "Add to classpath: \u001b[0m\u001b[32m/home/dsyer/.m2/repository/io/github/padreati/rapaio-jupyter-kernel/2.0.0/mima_cache/com/fasterxml/jackson/core/jackson-core/2.17.1/jackson-core-2.17.1.jar\u001b[0m\u001b[0m\n"
     ]
    }
   ],
   "source": [
    "%dependency /add com.example:experiment:1.0.0\n",
    "%dependency /resolve"
   ]
  },
  {
   "cell_type": "code",
   "execution_count": 5,
   "metadata": {},
   "outputs": [],
   "source": [
    "import org.springframework.boot.logging.*;\n",
    "// Make sure Spring Boot is using the Java Logging System not Logback (until we can manipulate the classpath more easily - e.g. https://github.com/jbangdev/jbang/issues/150)\n",
    "System.setProperty(LoggingSystem.SYSTEM_PROPERTY, \"org.springframework.boot.logging.java.JavaLoggingSystem\");"
   ]
  },
  {
   "cell_type": "code",
   "execution_count": 6,
   "metadata": {},
   "outputs": [
    {
     "name": "stderr",
     "output_type": "stream",
     "text": [
      "/home/dsyer/dev/scratch/java-jupyter\n"
     ]
    },
    {
     "name": "stdout",
     "output_type": "stream",
     "text": [
      "  .   ____          _            __ _ _\n",
      " /\\\\ / ___'_ __ _ _(_)_ __  __ _ \\ \\ \\ \\\n",
      "( ( )\\___ | '_ | '_| | '_ \\/ _` | \\ \\ \\ \\\n",
      " \\\\/  ___)| |_)| | | | | || (_| |  ) ) ) )\n",
      "  '  |____| .__|_| |_|_| |_\\__, | / / / /\n",
      " =========|_|==============|___/=/_/_/_/\n",
      "\n",
      " :: Spring Boot ::                (v3.3.0)\n",
      "\n"
     ]
    },
    {
     "name": "stderr",
     "output_type": "stream",
     "text": [
      "[Engine-thread-0] INFO com.example.Application - Starting Application v1.0.0 using Java 22.0.2 with PID 1256096 (/home/dsyer/.m2/repository/io/github/padreati/rapaio-jupyter-kernel/2.0.0/mima_cache/com/example/experiment/1.0.0/experiment-1.0.0.jar started by dsyer in /home/dsyer/dev/scratch/java-jupyter)\n",
      "[Engine-thread-0] INFO com.example.Application - No active profile set, falling back to 1 default profile: \"default\"\n",
      "[Engine-thread-0] INFO org.springframework.boot.web.embedded.tomcat.TomcatWebServer - Tomcat initialized with port 8080 (http)\n",
      "[Engine-thread-0] INFO org.springframework.boot.web.servlet.context.ServletWebServerApplicationContext - Root WebApplicationContext: initialization completed in 499 ms\n",
      "[Engine-thread-0] INFO org.springframework.security.web.DefaultSecurityFilterChain - Will secure any request with [org.springframework.security.web.session.DisableEncodeUrlFilter@328b31f3, org.springframework.security.web.context.request.async.WebAsyncManagerIntegrationFilter@33b57356, org.springframework.security.web.context.SecurityContextHolderFilter@73a0ca81, org.springframework.security.web.header.HeaderWriterFilter@53e280c6, org.springframework.web.filter.CorsFilter@1fb5218f, org.springframework.security.web.csrf.CsrfFilter@3079d5b3, org.springframework.security.web.authentication.logout.LogoutFilter@1ac4f6f1, org.springframework.security.web.authentication.UsernamePasswordAuthenticationFilter@7d94f7b3, org.springframework.security.web.authentication.ui.DefaultLoginPageGeneratingFilter@7b71481f, org.springframework.security.web.authentication.ui.DefaultLogoutPageGeneratingFilter@7d786525, org.springframework.security.web.authentication.www.BasicAuthenticationFilter@3927131f, org.springframework.security.web.savedrequest.RequestCacheAwareFilter@493f5e91, org.springframework.security.web.servletapi.SecurityContextHolderAwareRequestFilter@15491857, org.springframework.security.web.authentication.AnonymousAuthenticationFilter@1697c7d0, org.springframework.security.web.access.ExceptionTranslationFilter@1882785a, org.springframework.security.web.access.intercept.AuthorizationFilter@ad56f95]\n",
      "[Engine-thread-0] INFO org.springframework.boot.web.embedded.tomcat.TomcatWebServer - Tomcat started on port 8080 (http) with context path '/'\n",
      "[Engine-thread-0] INFO com.example.Application - Started Application in 1.308 seconds (process running for 23.693)\n"
     ]
    },
    {
     "name": "stdout",
     "output_type": "stream",
     "text": [
      "Hello, Runner!\n"
     ]
    }
   ],
   "source": [
    "com.example.Application.main(new String[0]);"
   ]
  },
  {
   "cell_type": "markdown",
   "metadata": {},
   "source": [
    "If you edit the `kernel.json` (from `~/.local/share/jupyter`) you can add the `@fatjar` suffix to the `rapaio` kernel to use the fat jar instead of resolving all the dependencies.\n",
    "\n",
    "```json\n",
    "{\n",
    "  \"argv\" : [\n",
    "    \"/home/dsyer/.sdkman/candidates/jbang/current/bin/jbang\",\n",
    "    \"--java\",\n",
    "    \"22\",\n",
    "...\n",
    "    \"io.github.padreati:rapaio-jupyter-kernel:2.0.0@fatjar\",\n",
    "    \"{connection_file}\"\n",
    "  ],\n",
    "...\n",
    "}\n",
    "```"
   ]
  },
  {
   "cell_type": "code",
   "execution_count": 7,
   "metadata": {},
   "outputs": [
    {
     "data": {
      "text/plain": [
       "/home/dsyer/.m2/repository/io/github/padreati/rapaio-jupyter-kernel/2.0.0/rapaio-jupyter-kernel-2.0.0.jar:/home/dsyer/.m2/repository/io/github/padreati/rapaio-jupyter-kernel/2.0.0/rapaio-jupyter-kernel-2.0.0.jar"
      ]
     },
     "execution_count": 7,
     "metadata": {},
     "output_type": "execute_result"
    }
   ],
   "source": [
    "System.getProperty(\"java.class.path\")"
   ]
  },
  {
   "cell_type": "code",
   "execution_count": null,
   "metadata": {},
   "outputs": [],
   "source": [
    "%help"
   ]
  },
  {
   "cell_type": "code",
   "execution_count": 9,
   "metadata": {},
   "outputs": [],
   "source": [
    "var version=\"2.0.13\""
   ]
  },
  {
   "cell_type": "code",
   "execution_count": 11,
   "metadata": {},
   "outputs": [
    {
     "data": {
      "text/plain": [
       "\u001b[0m\u001b[1mid:\u001b[32m1\u001b[0m \u001b[1mtype:\u001b[32mIMPORT\n",
       "\u001b[0m\u001b[0m\u001b[0m\u001b[1;30m|    import java.util.*;\u001b[0m\u001b[0m\n",
       "\u001b[0m\u001b[0m\u001b[1;30m|    import java.io.*;\u001b[0m\u001b[0m\n",
       "\u001b[0m\u001b[0m\u001b[1;30m|    import java.math.*;\u001b[0m\u001b[0m\n",
       "\u001b[0m\u001b[0m\u001b[1;30m|    import java.net.*;\u001b[0m\u001b[0m\n",
       "\u001b[0m\u001b[0m\u001b[1;30m|    import java.util.*;\u001b[0m\u001b[0m\n",
       "\u001b[0m\u001b[0m\u001b[1;30m|    import java.util.concurrent.*;\u001b[0m\u001b[0m\n",
       "\u001b[0m\u001b[0m\u001b[1;30m|    import java.util.prefs.*;\u001b[0m\u001b[0m\n",
       "\u001b[0m\u001b[0m\u001b[1;30m|    import java.util.regex.*;\u001b[0m\u001b[0m\n",
       "\u001b[0m\u001b[0m\u001b[1;30m|    \u001b[0m\u001b[0m\n",
       "\u001b[0m\u001b[0m\u001b[1;30m|    import static org.rapaio.jupyter.kernel.global.Global.*;\u001b[0m\u001b[0m\n",
       "\u001b[0m\u001b[1mid:\u001b[32m2\u001b[0m \u001b[1mtype:\u001b[32mSTATEMENT\n",
       "\u001b[0m\u001b[0m\u001b[0m\u001b[1;30m|    System.out.println(\"Hello World!\")\u001b[0m\u001b[0m\n",
       "\u001b[0m\u001b[1mid:\u001b[32m3\u001b[0m \u001b[1mtype:\u001b[32mIMPORT\n",
       "\u001b[0m\u001b[0m\u001b[0m\u001b[1;30m|    import org.slf4j.LoggerFactory;\u001b[0m\u001b[0m\n",
       "\u001b[0m\u001b[1mid:\u001b[32m4\u001b[0m \u001b[1mtype:\u001b[32mSTATEMENT\n",
       "\u001b[0m\u001b[0m\u001b[0m\u001b[1;30m|    LoggerFactory.getLogger(\"test\").info(\"Hello World!\");\u001b[0m\u001b[0m\n",
       "\u001b[0m\u001b[1mid:\u001b[32m5\u001b[0m \u001b[1mtype:\u001b[32mVAR\n",
       "\u001b[0m\u001b[0m\u001b[0m\u001b[1;30m|    var version=\"2.0.13\";\u001b[0m\u001b[0m\n"
      ]
     },
     "execution_count": 11,
     "metadata": {},
     "output_type": "execute_result"
    }
   ],
   "source": [
    "%jshell /list"
   ]
  }
 ],
 "metadata": {
  "kernelspec": {
   "display_name": "java (Rapaio/j!)",
   "language": "java",
   "name": "jbang-rapaio"
  },
  "language_info": {
   "codemirror_mode": "java",
   "file_extension": ".jshell",
   "mimetype": "text/x-java-source",
   "name": "java",
   "nbconvert_exporter": "script",
   "pygments_lexer": "java",
   "version": "22.0.2+9"
  }
 },
 "nbformat": 4,
 "nbformat_minor": 4
}
