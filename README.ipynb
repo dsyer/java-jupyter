{
 "cells": [
  {
   "cell_type": "markdown",
   "metadata": {},
   "source": [
    "# Java Notebook"
   ]
  },
  {
   "cell_type": "markdown",
   "metadata": {},
   "source": [
    "Prepare the kernel while Python is still active:"
   ]
  },
  {
   "cell_type": "code",
   "execution_count": 1,
   "metadata": {
    "vscode": {
     "languageId": "java"
    }
   },
   "outputs": [
    {
     "name": "stdout",
     "output_type": "stream",
     "text": [
      "java (IJava/j!) kernel installed to /home/dsyer/.local/share/jupyter/kernels/jbang-ijava/kernel.json\n",
      "For more information on this specific kernel: https://github.com/SpencerPark/IJava\n",
      "\n",
      "Brought to you by https://github.com/jupyter-java\n"
     ]
    }
   ],
   "source": [
    "!jbang install-kernel@jupyter-java"
   ]
  },
  {
   "cell_type": "markdown",
   "metadata": {},
   "source": [
    "(Don't use the `jbang` from Nix - it breaks the jupyter-java installer. Use sdkman, for example.)"
   ]
  },
  {
   "cell_type": "markdown",
   "metadata": {},
   "source": [
    "When that's done select the Java kernel from the \"Kernel\" menu and you're good to go."
   ]
  },
  {
   "cell_type": "code",
   "execution_count": 1,
   "metadata": {
    "vscode": {
     "languageId": "java"
    }
   },
   "outputs": [
    {
     "name": "stdout",
     "output_type": "stream",
     "text": [
      "Hello World!\n"
     ]
    }
   ],
   "source": [
    "System.out.println(\"Hello World!\")"
   ]
  }
 ],
 "metadata": {
  "kernelspec": {
   "display_name": "java (IJava/j!)",
   "language": "java",
   "name": "jbang-ijava"
  },
  "language_info": {
   "codemirror_mode": "java",
   "file_extension": ".jshell",
   "mimetype": "text/x-java-source",
   "name": "Java",
   "pygments_lexer": "java",
   "version": "17.0.7+7"
  }
 },
 "nbformat": 4,
 "nbformat_minor": 4
}
