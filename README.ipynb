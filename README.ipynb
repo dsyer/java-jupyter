{
 "cells": [
  {
   "cell_type": "markdown",
   "metadata": {},
   "source": [
    "# Java Notebook"
   ]
  },
  {
   "cell_type": "markdown",
   "metadata": {},
   "source": [
    "Prepare the kernel while Python is still active:"
   ]
  },
  {
   "cell_type": "code",
   "execution_count": null,
   "metadata": {},
   "outputs": [],
   "source": [
    "!jbang install-kernel@jupyter-java"
   ]
  },
  {
   "cell_type": "markdown",
   "metadata": {},
   "source": [
    "(Don't use the `jbang` from Nix - it [breaks](https://github.com/NixOS/nixpkgs/pull/320698) the jupyter-java installer. Use sdkman, for example, `sdk install jbang 0.116.0`.)"
   ]
  },
  {
   "cell_type": "markdown",
   "metadata": {},
   "source": [
    "When that's done select the Java kernel from the \"Kernel\" menu and you're good to go."
   ]
  },
  {
   "cell_type": "code",
   "execution_count": 1,
   "metadata": {},
   "outputs": [
    {
     "name": "stdout",
     "output_type": "stream",
     "text": [
      "Hello World!\n"
     ]
    }
   ],
   "source": [
    "System.out.println(\"Hello World!\")"
   ]
  },
  {
   "cell_type": "code",
   "execution_count": null,
   "metadata": {},
   "outputs": [],
   "source": [
    "%dependency /add org.slf4j:slf4j-simple:2.0.13\n",
    "%dependency /resolve"
   ]
  },
  {
   "cell_type": "code",
   "execution_count": 3,
   "metadata": {},
   "outputs": [
    {
     "name": "stderr",
     "output_type": "stream",
     "text": [
      "[Engine-thread-0] INFO test - Hello World!\n"
     ]
    }
   ],
   "source": [
    "import org.slf4j.LoggerFactory;\n",
    "LoggerFactory.getLogger(\"test\").info(\"Hello World!\");"
   ]
  },
  {
   "cell_type": "markdown",
   "metadata": {},
   "source": [
    "The rapaio kernel does not support local maven repos?"
   ]
  },
  {
   "cell_type": "code",
   "execution_count": 4,
   "metadata": {},
   "outputs": [
    {
     "name": "stdout",
     "output_type": "stream",
     "text": [
      "\u001b[0mRepository \u001b[1m\u001b[32mlocal\u001b[0m url: \u001b[1m\u001b[32mfile:///home/dsyer/.m2/repository\u001b[0m added.\u001b[0mRepositories count: 5\n",
      "\u001b[0mname: \u001b[1m\u001b[32mcentral, \u001b[0murl: \u001b[1m\u001b[32mhttps://repo.maven.apache.org/maven2/\n",
      "\u001b[0m\u001b[0mname: \u001b[1m\u001b[32mjcenter, \u001b[0murl: \u001b[1m\u001b[32mhttps://jcenter.bintray.com/\n",
      "\u001b[0m\u001b[0mname: \u001b[1m\u001b[32mjboss, \u001b[0murl: \u001b[1m\u001b[32mhttps://repository.jboss.org/nexus/content/repositories/releases/\n",
      "\u001b[0m\u001b[0mname: \u001b[1m\u001b[32matlassian, \u001b[0murl: \u001b[1m\u001b[32mhttps://packages.atlassian.com/maven/public/\n",
      "\u001b[0m\u001b[0mname: \u001b[1m\u001b[32mlocal, \u001b[0murl: \u001b[1m\u001b[32mfile:///home/dsyer/.m2/repository/\n",
      "\u001b[0m"
     ]
    }
   ],
   "source": [
    "%dependency /add-repo local file:///home/dsyer/.m2/repository\n",
    "%dependency /list-repos"
   ]
  },
  {
   "cell_type": "code",
   "execution_count": 5,
   "metadata": {},
   "outputs": [
    {
     "name": "stdout",
     "output_type": "stream",
     "text": [
      "Adding dependency \u001b[0m\u001b[1m\u001b[32mcom.example:experiment:1.0.0-SNAPSHOT\u001b[0m\u001b[0m\n",
      "Solving dependencies\n"
     ]
    },
    {
     "name": "stderr",
     "output_type": "stream",
     "text": [
      "unresolved dependency: com.example#experiment;1.0.0-SNAPSHOT: Cannot invoke \"org.apache.ivy.plugins.resolver.ResolverSettings.getVersionMatcher()\" because the return value of \"org.apache.ivy.plugins.resolver.BasicResolver.getSettings()\" is nullunresolved dependency: com.example#experiment;1.0.0-SNAPSHOT: Cannot invoke \"org.apache.ivy.plugins.resolver.ResolverSettings.getVersionMatcher()\" because the return value of \"org.apache.ivy.plugins.resolver.BasicResolver.getSettings()\" is nullunresolved dependency: com.example#experiment;1.0.0-SNAPSHOT: Cannot invoke \"org.apache.ivy.plugins.resolver.ResolverSettings.getVersionMatcher()\" because the return value of \"org.apache.ivy.plugins.resolver.BasicResolver.getSettings()\" is null"
     ]
    },
    {
     "name": "stdout",
     "output_type": "stream",
     "text": [
      "Found dependencies count: 2\n",
      "Add to classpath: \u001b[0m\u001b[32m/home/dsyer/.m2/repository/io/github/padreati/rapaio-jupyter-kernel/1.3.0/ivy_cache/org.slf4j/slf4j-simple/jars/slf4j-simple-2.0.13.jar\u001b[0m\u001b[0m\n",
      "Add to classpath: \u001b[0m\u001b[32m/home/dsyer/.m2/repository/io/github/padreati/rapaio-jupyter-kernel/1.3.0/ivy_cache/org.slf4j/slf4j-api/jars/slf4j-api-2.0.13.jar\u001b[0m\u001b[0m\n"
     ]
    }
   ],
   "source": [
    "%dependency /add com.example:experiment:1.0.0-SNAPSHOT\n",
    "%dependency /resolve"
   ]
  },
  {
   "cell_type": "code",
   "execution_count": null,
   "metadata": {},
   "outputs": [],
   "source": [
    "com.example.Application.main();"
   ]
  },
  {
   "cell_type": "code",
   "execution_count": null,
   "metadata": {},
   "outputs": [],
   "source": [
    "%help"
   ]
  }
 ],
 "metadata": {
  "kernelspec": {
   "display_name": "java (Rapaio/j!)",
   "language": "java",
   "name": "jbang-rapaio"
  },
  "language_info": {
   "codemirror_mode": "java",
   "file_extension": ".jshell",
   "mimetype": "text/x-java-source",
   "name": "java",
   "nbconvert_exporter": "script",
   "pygments_lexer": "java",
   "version": "21.0.3+9-LTS"
  }
 },
 "nbformat": 4,
 "nbformat_minor": 4
}
